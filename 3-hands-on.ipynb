{
 "cells": [
  {
   "cell_type": "code",
   "execution_count": 35,
   "metadata": {},
   "outputs": [],
   "source": [
    "#import nltk\n",
    "import re"
   ]
  },
  {
   "cell_type": "code",
   "execution_count": 2,
   "metadata": {},
   "outputs": [],
   "source": [
    "# загрузим привычный корпус\n",
    "corpus = nltk.corpus.conll2000"
   ]
  },
  {
   "cell_type": "code",
   "execution_count": 3,
   "metadata": {},
   "outputs": [
    {
     "data": {
      "text/plain": [
       "['Confidence', 'in', 'the', 'pound', 'is']"
      ]
     },
     "execution_count": 3,
     "metadata": {},
     "output_type": "execute_result"
    }
   ],
   "source": [
    "# возьмем список (неразмеченных) слов и предложений из корпуса\n",
    "words = corpus.words()\n",
    "sents = corpus.sents()\n"
   ]
  },
  {
   "cell_type": "markdown",
   "metadata": {},
   "source": [
    "NLTK умеет считать частоты по корпусу и даже извлекать триграммы из списков слов:"
   ]
  },
  {
   "cell_type": "code",
   "execution_count": 4,
   "metadata": {},
   "outputs": [
    {
     "name": "stdout",
     "output_type": "stream",
     "text": [
      "Length of unigram FreqDist = 21589\n",
      "Length of trigrams FreqDist by words = 212933\n",
      "Length of trigrams FreqDist by sents = 196878\n"
     ]
    }
   ],
   "source": [
    "from nltk.probability import FreqDist\n",
    "from nltk import trigrams\n",
    "\n",
    "unigram_fd = FreqDist()\n",
    "words_fd = FreqDist()\n",
    "sents_fd = FreqDist()\n",
    "\n",
    "unigram_fd.update(words)\n",
    "words_fd.update(trigrams(words))\n",
    "for sent in sents:\n",
    "    sents_fd.update(trigrams(sent))\n",
    "\n",
    "print('Length of unigram FreqDist = {}'.format(len(unigram_fd)))\n",
    "print('Length of trigrams FreqDist by words = {}'.format(len(words_fd)))\n",
    "print('Length of trigrams FreqDist by sents = {}'.format(len(sents_fd)))"
   ]
  },
  {
   "cell_type": "code",
   "execution_count": null,
   "metadata": {
    "collapsed": true
   },
   "outputs": [],
   "source": [
    "# Можно почитать, что представляет собой объект FreqDist\n",
    "?words_fd\n",
    "# или: help(words_fd)"
   ]
  },
  {
   "cell_type": "markdown",
   "metadata": {},
   "source": [
    "Попробуем вывести самые частые 10 триграмм:"
   ]
  },
  {
   "cell_type": "code",
   "execution_count": 5,
   "metadata": {},
   "outputs": [
    {
     "data": {
      "text/plain": [
       "[(('million', ',', 'or'), 256),\n",
       " (('a', 'share', ','), 240),\n",
       " ((',', \"''\", 'says'), 195),\n",
       " (('cents', 'a', 'share'), 161),\n",
       " ((',', \"''\", 'said'), 138),\n",
       " (('%', 'to', '$'), 134),\n",
       " ((',', 'or', '$'), 125),\n",
       " (('the', 'company', \"'s\"), 114),\n",
       " ((',', \"''\", 'he'), 109),\n",
       " (('a', 'year', 'earlier'), 91)]"
      ]
     },
     "execution_count": 5,
     "metadata": {},
     "output_type": "execute_result"
    }
   ],
   "source": [
    "sents_fd.most_common(10)"
   ]
  },
  {
   "cell_type": "markdown",
   "metadata": {},
   "source": [
    "Всевозможные улучшения для языковых моделей в NLTK тоже есть, и тоже не очень удобные:"
   ]
  },
  {
   "cell_type": "code",
   "execution_count": 6,
   "metadata": {},
   "outputs": [
    {
     "name": "stdout",
     "output_type": "stream",
     "text": [
      "('who', 'are', 'not') 2.3036219848467746e-06 0.009112681815526607\n",
      "('who', 'is', 'the') 4.607243969693549e-06 0.011904761904761904\n",
      "('I', 'love', 'you') 2.3036219848467746e-06 0.0\n",
      "('in', 'San', 'Francisco') 4.146519572724194e-05 0.7386363636363636\n",
      "('to', 'San', 'Diego') 2.3036219848467746e-06 0.012499999999999999\n"
     ]
    }
   ],
   "source": [
    "from nltk.probability import LaplaceProbDist, KneserNeyProbDist\n",
    "\n",
    "eval_trigrams = [\n",
    "    ('who', 'are', 'not'),\n",
    "    ('who', 'is', 'the'),\n",
    "    ('I', 'love', 'you'),\n",
    "    ('in', 'San', 'Francisco'),\n",
    "    ('to', 'San', 'Diego'),\n",
    "]\n",
    "\n",
    "laplace = LaplaceProbDist(sents_fd)\n",
    "kn = KneserNeyProbDist(sents_fd)\n",
    "for t in eval_trigrams:\n",
    "    print(t, laplace.prob(t), kn.prob(t))"
   ]
  },
  {
   "cell_type": "markdown",
   "metadata": {},
   "source": [
    "Как проверить, какие из триграмм были в частотном списке?"
   ]
  },
  {
   "cell_type": "code",
   "execution_count": 9,
   "metadata": {},
   "outputs": [
    {
     "data": {
      "text/plain": [
       "0"
      ]
     },
     "execution_count": 9,
     "metadata": {},
     "output_type": "execute_result"
    }
   ],
   "source": [
    "sents_fd[('who', 'are', 'not')]"
   ]
  },
  {
   "cell_type": "markdown",
   "metadata": {},
   "source": [
    "## Генерация случайных текстов (character-based)"
   ]
  },
  {
   "cell_type": "markdown",
   "metadata": {},
   "source": [
    "Для того, чтобы сгенерировать случайный текст нужно запастись двумя вещами:\n",
    "\n",
    "1. Обучающий корпус.\n",
    "2. Языковая модель."
   ]
  },
  {
   "cell_type": "code",
   "execution_count": 61,
   "metadata": {},
   "outputs": [],
   "source": [
    "# 1. Читаем обучающий корпус из input.txt\n",
    "with open('messages.txt', encoding = 'utf-8') as f:\n",
    "    \n",
    "   corpus = f.read()\n",
    "\n",
    "\n",
    "reg_dima = re.compile(r'Дмитрий Залманов :\\n(.*?)\\n')\n",
    "reg_ya = re.compile(r'Наташа Озерчук :\\n(.*?)\\n')\n",
    "msg_d = re.findall(reg_dima, corpus)\n",
    "msg_dima = ' '.join(msg_d)\n",
    "msg_y = re.findall(reg_ya, corpus)\n",
    "msg_ya = ' '.join(msg_y)"
   ]
  },
  {
   "cell_type": "markdown",
   "metadata": {},
   "source": [
    "2.Как обычно - реализуем класс для языковой модели."
   ]
  },
  {
   "cell_type": "code",
   "execution_count": 53,
   "metadata": {},
   "outputs": [],
   "source": [
    "from collections import Counter, defaultdict\n",
    "\n",
    "class CharLM:\n",
    "    def __init__(self, data, order=4):\n",
    "        self.order = order\n",
    "        self.ngrams = defaultdict(Counter)\n",
    "        pad = '~' * order  # специальный символ для начала предложения (для первого символа будет ~~)\n",
    "        data = pad + data\n",
    "        # Для каждой n-граммы из символов посчитаем символы, которые идут перед ней\n",
    "        # Например, если порядок модели 2, а корпус выглядит так 'abcbcb':\n",
    "        # self.ngrams['~~']['a'] == 1\n",
    "        # self.ngrams['~a']['b'] == 1\n",
    "        # self.ngrams['ab']['c'] == 1\n",
    "        # self.ngrams['bc']['b'] == 2\n",
    "        # self.ngrams['cb']['c'] == 1\n",
    "        for i in range(len(data) - order):\n",
    "            history, char = data[i:i+order], data[i+order]\n",
    "            self.ngrams[history][char] +=1\n",
    "        self.lm = {history: self.normalize(chars) for history, chars in self.ngrams.items()}\n",
    "    \n",
    "    def normalize(self, counter):\n",
    "        # Всё как обычно - превращаем частоты в вероятности\n",
    "        # сделаем только в одну строчку - more pythonic ;)\n",
    "        sum_ = sum(counter.values())\n",
    "        return [(char, count / sum_) for char, count in counter.items()]\n",
    "    \n",
    "    def __getitem__(self, history):\n",
    "        return self.lm[history]"
   ]
  },
  {
   "cell_type": "markdown",
   "metadata": {},
   "source": [
    "Обучаем модель:"
   ]
  },
  {
   "cell_type": "code",
   "execution_count": 54,
   "metadata": {},
   "outputs": [],
   "source": [
    "lm = CharLM(msg_dima, order=2)"
   ]
  },
  {
   "cell_type": "markdown",
   "metadata": {},
   "source": [
    "Посмотрим, что получилось:"
   ]
  },
  {
   "cell_type": "code",
   "execution_count": 55,
   "metadata": {},
   "outputs": [
    {
     "ename": "KeyError",
     "evalue": "'ну'",
     "output_type": "error",
     "traceback": [
      "\u001b[1;31m---------------------------------------------------------------------------\u001b[0m",
      "\u001b[1;31mKeyError\u001b[0m                                  Traceback (most recent call last)",
      "\u001b[1;32m<ipython-input-55-8b7505e6d77d>\u001b[0m in \u001b[0;36m<module>\u001b[1;34m\u001b[0m\n\u001b[1;32m----> 1\u001b[1;33m \u001b[0mlm\u001b[0m\u001b[1;33m[\u001b[0m\u001b[1;34m'ну'\u001b[0m\u001b[1;33m]\u001b[0m\u001b[1;33m\u001b[0m\u001b[1;33m\u001b[0m\u001b[0m\n\u001b[0m",
      "\u001b[1;32m<ipython-input-53-839e13759d91>\u001b[0m in \u001b[0;36m__getitem__\u001b[1;34m(self, history)\u001b[0m\n\u001b[0;32m     26\u001b[0m \u001b[1;33m\u001b[0m\u001b[0m\n\u001b[0;32m     27\u001b[0m     \u001b[1;32mdef\u001b[0m \u001b[0m__getitem__\u001b[0m\u001b[1;33m(\u001b[0m\u001b[0mself\u001b[0m\u001b[1;33m,\u001b[0m \u001b[0mhistory\u001b[0m\u001b[1;33m)\u001b[0m\u001b[1;33m:\u001b[0m\u001b[1;33m\u001b[0m\u001b[1;33m\u001b[0m\u001b[0m\n\u001b[1;32m---> 28\u001b[1;33m         \u001b[1;32mreturn\u001b[0m \u001b[0mself\u001b[0m\u001b[1;33m.\u001b[0m\u001b[0mlm\u001b[0m\u001b[1;33m[\u001b[0m\u001b[0mhistory\u001b[0m\u001b[1;33m]\u001b[0m\u001b[1;33m\u001b[0m\u001b[1;33m\u001b[0m\u001b[0m\n\u001b[0m",
      "\u001b[1;31mKeyError\u001b[0m: 'ну'"
     ]
    }
   ],
   "source": [
    "lm['ну']"
   ]
  },
  {
   "cell_type": "code",
   "execution_count": 18,
   "metadata": {},
   "outputs": [
    {
     "data": {
      "text/plain": [
       "[(' ', 0.8530393325387365),\n",
       " ('t', 0.025387365911799763),\n",
       " ('f', 0.06930870083432658),\n",
       " (',', 0.004886769964243146),\n",
       " (\"'\", 0.0005363528009535161),\n",
       " ('e', 0.004350417163289631),\n",
       " ('\\n', 0.02234803337306317),\n",
       " ('-', 0.0004171632896305125),\n",
       " ('a', 0.0017282479141835518),\n",
       " (';', 0.0017878426698450535),\n",
       " ('o', 0.0012514898688915374),\n",
       " (':', 0.0010727056019070322),\n",
       " ('u', 0.0015494636471990466),\n",
       " ('.', 0.005184743742550656),\n",
       " ('!', 0.0004171632896305125),\n",
       " ('s', 0.0012514898688915374),\n",
       " ('i', 0.003933253873659118),\n",
       " ('?', 0.0015494636471990466)]"
      ]
     },
     "execution_count": 18,
     "metadata": {},
     "output_type": "execute_result"
    }
   ],
   "source": [
    "lm['of']"
   ]
  },
  {
   "cell_type": "markdown",
   "metadata": {},
   "source": [
    "А теперь напишем функцию для генерации случайных текстов!"
   ]
  },
  {
   "cell_type": "code",
   "execution_count": 51,
   "metadata": {},
   "outputs": [],
   "source": [
    "from random import random\n",
    "\n",
    "def generate_letter(lm, history):\n",
    "    history = history[-lm.order:]\n",
    "    # По предыдущим символам будем генерировать следующий с учётом вероятностей\n",
    "    dist = lm[history]\n",
    "    x = random()\n",
    "    for char, prob in dist:\n",
    "        x = x - prob\n",
    "        if x <= 0:\n",
    "            return char\n",
    "        \n",
    "def generate_text(lm, n_letters=1000):\n",
    "    history = '~' * lm.order\n",
    "    out = []\n",
    "    # Генерируем текст длины n_letters\n",
    "    for i in range(n_letters):\n",
    "        # на каждом шаге генерируем новый символ\n",
    "        c = generate_letter(lm, history)\n",
    "        # обновляем историю и результат\n",
    "        history = history[-lm.order:] + c\n",
    "        out.append(c)\n",
    "    return ''.join(out)"
   ]
  },
  {
   "cell_type": "markdown",
   "metadata": {},
   "source": [
    "Попробуем генерировать тексты разной длины с помощью моделей разного порядка -- 2...10?\n",
    "\n",
    "Какой результат более разнообразный? Какой более связный?"
   ]
  },
  {
   "cell_type": "code",
   "execution_count": 52,
   "metadata": {
    "scrolled": true
   },
   "outputs": [
    {
     "ename": "TypeError",
     "evalue": "'CharLM' object is not subscriptable",
     "output_type": "error",
     "traceback": [
      "\u001b[1;31m---------------------------------------------------------------------------\u001b[0m",
      "\u001b[1;31mTypeError\u001b[0m                                 Traceback (most recent call last)",
      "\u001b[1;32m<ipython-input-52-a7d6c3f7d1c8>\u001b[0m in \u001b[0;36m<module>\u001b[1;34m\u001b[0m\n\u001b[1;32m----> 1\u001b[1;33m \u001b[0mprint\u001b[0m\u001b[1;33m(\u001b[0m\u001b[0mgenerate_text\u001b[0m\u001b[1;33m(\u001b[0m\u001b[0mlm\u001b[0m\u001b[1;33m,\u001b[0m \u001b[1;36m1000\u001b[0m\u001b[1;33m)\u001b[0m\u001b[1;33m)\u001b[0m\u001b[1;33m\u001b[0m\u001b[1;33m\u001b[0m\u001b[0m\n\u001b[0m",
      "\u001b[1;32m<ipython-input-51-996031eed5f7>\u001b[0m in \u001b[0;36mgenerate_text\u001b[1;34m(lm, n_letters)\u001b[0m\n\u001b[0;32m     17\u001b[0m     \u001b[1;32mfor\u001b[0m \u001b[0mi\u001b[0m \u001b[1;32min\u001b[0m \u001b[0mrange\u001b[0m\u001b[1;33m(\u001b[0m\u001b[0mn_letters\u001b[0m\u001b[1;33m)\u001b[0m\u001b[1;33m:\u001b[0m\u001b[1;33m\u001b[0m\u001b[1;33m\u001b[0m\u001b[0m\n\u001b[0;32m     18\u001b[0m         \u001b[1;31m# на каждом шаге генерируем новый символ\u001b[0m\u001b[1;33m\u001b[0m\u001b[1;33m\u001b[0m\u001b[1;33m\u001b[0m\u001b[0m\n\u001b[1;32m---> 19\u001b[1;33m         \u001b[0mc\u001b[0m \u001b[1;33m=\u001b[0m \u001b[0mgenerate_letter\u001b[0m\u001b[1;33m(\u001b[0m\u001b[0mlm\u001b[0m\u001b[1;33m,\u001b[0m \u001b[0mhistory\u001b[0m\u001b[1;33m)\u001b[0m\u001b[1;33m\u001b[0m\u001b[1;33m\u001b[0m\u001b[0m\n\u001b[0m\u001b[0;32m     20\u001b[0m         \u001b[1;31m# обновляем историю и результат\u001b[0m\u001b[1;33m\u001b[0m\u001b[1;33m\u001b[0m\u001b[1;33m\u001b[0m\u001b[0m\n\u001b[0;32m     21\u001b[0m         \u001b[0mhistory\u001b[0m \u001b[1;33m=\u001b[0m \u001b[0mhistory\u001b[0m\u001b[1;33m[\u001b[0m\u001b[1;33m-\u001b[0m\u001b[0mlm\u001b[0m\u001b[1;33m.\u001b[0m\u001b[0morder\u001b[0m\u001b[1;33m:\u001b[0m\u001b[1;33m]\u001b[0m \u001b[1;33m+\u001b[0m \u001b[0mc\u001b[0m\u001b[1;33m\u001b[0m\u001b[1;33m\u001b[0m\u001b[0m\n",
      "\u001b[1;32m<ipython-input-51-996031eed5f7>\u001b[0m in \u001b[0;36mgenerate_letter\u001b[1;34m(lm, history)\u001b[0m\n\u001b[0;32m      4\u001b[0m     \u001b[0mhistory\u001b[0m \u001b[1;33m=\u001b[0m \u001b[0mhistory\u001b[0m\u001b[1;33m[\u001b[0m\u001b[1;33m-\u001b[0m\u001b[0mlm\u001b[0m\u001b[1;33m.\u001b[0m\u001b[0morder\u001b[0m\u001b[1;33m:\u001b[0m\u001b[1;33m]\u001b[0m\u001b[1;33m\u001b[0m\u001b[1;33m\u001b[0m\u001b[0m\n\u001b[0;32m      5\u001b[0m     \u001b[1;31m# По предыдущим символам будем генерировать следующий с учётом вероятностей\u001b[0m\u001b[1;33m\u001b[0m\u001b[1;33m\u001b[0m\u001b[1;33m\u001b[0m\u001b[0m\n\u001b[1;32m----> 6\u001b[1;33m     \u001b[0mdist\u001b[0m \u001b[1;33m=\u001b[0m \u001b[0mlm\u001b[0m\u001b[1;33m[\u001b[0m\u001b[0mhistory\u001b[0m\u001b[1;33m]\u001b[0m\u001b[1;33m\u001b[0m\u001b[1;33m\u001b[0m\u001b[0m\n\u001b[0m\u001b[0;32m      7\u001b[0m     \u001b[0mx\u001b[0m \u001b[1;33m=\u001b[0m \u001b[0mrandom\u001b[0m\u001b[1;33m(\u001b[0m\u001b[1;33m)\u001b[0m\u001b[1;33m\u001b[0m\u001b[1;33m\u001b[0m\u001b[0m\n\u001b[0;32m      8\u001b[0m     \u001b[1;32mfor\u001b[0m \u001b[0mchar\u001b[0m\u001b[1;33m,\u001b[0m \u001b[0mprob\u001b[0m \u001b[1;32min\u001b[0m \u001b[0mdist\u001b[0m\u001b[1;33m:\u001b[0m\u001b[1;33m\u001b[0m\u001b[1;33m\u001b[0m\u001b[0m\n",
      "\u001b[1;31mTypeError\u001b[0m: 'CharLM' object is not subscriptable"
     ]
    }
   ],
   "source": [
    "print(generate_text(lm, 1000))"
   ]
  },
  {
   "cell_type": "code",
   "execution_count": 68,
   "metadata": {
    "scrolled": true
   },
   "outputs": [
    {
     "name": "stdout",
     "output_type": "stream",
     "text": [
      "Ой они классные тоже, я на них была! ну это бывает я не верю))  я помню больше ч\n"
     ]
    }
   ],
   "source": [
    "lm8 = CharLM(msg_ya, order=8)\n",
    "print(generate_text(lm8, 80))"
   ]
  },
  {
   "cell_type": "code",
   "execution_count": 42,
   "metadata": {},
   "outputs": [
    {
     "data": {
      "text/plain": [
       "1170522"
      ]
     },
     "execution_count": 42,
     "metadata": {},
     "output_type": "execute_result"
    }
   ],
   "source": [
    "len(msg_dima)"
   ]
  },
  {
   "cell_type": "code",
   "execution_count": 43,
   "metadata": {},
   "outputs": [
    {
     "data": {
      "text/plain": [
       "1090330"
      ]
     },
     "execution_count": 43,
     "metadata": {},
     "output_type": "execute_result"
    }
   ],
   "source": [
    "len(msg_ya)"
   ]
  },
  {
   "cell_type": "code",
   "execution_count": 62,
   "metadata": {},
   "outputs": [],
   "source": [
    "msg_dima = msg_dima[:100000]\n",
    "msg_ya = msg_ya[:100000]"
   ]
  },
  {
   "cell_type": "code",
   "execution_count": 60,
   "metadata": {},
   "outputs": [
    {
     "name": "stdout",
     "output_type": "stream",
     "text": [
      "Хоспаде, ты шикарна, решил чекнуть твои аудио, нашел Тролль Гнет Ельда во что я только не играю:D Но в лол больше всего, наверное) А ты тоже играешь или просто знаешь?)нуууу, не прям фанат, но очень люблю некоторые песнихотел на концерт сходить когда-нибудьага, там атмосфера милаяУчеба все время занимает?)или еще что-то?а ты из общаги ездишь?и где твой корпус, кстати?хмммм, сколько дорога занимает?жизненно:(единственный негатив от учебы)нес Бабушкинской езжув Строгиноот моего дома до любого нормального универа ехать больше часа:D:D\tот моего дома до любого нормального универа ехать больше часа:Dхмммма где корпус то?На Басманной шоль?блин:Dну тут анлакия еще в 3 классе понял, что я не гуманитарий ни разуа, лол, он у вас теперь?ну не, физика это клево, конечноно четнет, спасибо:D\tя еще в 3 классе понял, что я не гуманитарий ни разуhttps://vk.com/patrick2018ХМММММММММрешил загуглить концерт Тролль Гнет Ельнуууу, сначала я получил 3 по рисованию. в 3(!) классе. Потом понял, что не умею писа\n"
     ]
    }
   ],
   "source": [
    "print(msg_dima[:1000])"
   ]
  },
  {
   "cell_type": "code",
   "execution_count": 71,
   "metadata": {},
   "outputs": [
    {
     "name": "stdout",
     "output_type": "stream",
     "text": [
      "Ой они классные стикеры с котом \tкоторые шышки едят \tкоторый с трудом проводит р\n"
     ]
    }
   ],
   "source": [
    "print(generate_text(lm8, 80))"
   ]
  },
  {
   "cell_type": "code",
   "execution_count": null,
   "metadata": {},
   "outputs": [],
   "source": []
  },
  {
   "cell_type": "code",
   "execution_count": null,
   "metadata": {},
   "outputs": [],
   "source": []
  }
 ],
 "metadata": {
  "kernelspec": {
   "display_name": "Python 3",
   "language": "python",
   "name": "python3"
  },
  "language_info": {
   "codemirror_mode": {
    "name": "ipython",
    "version": 3
   },
   "file_extension": ".py",
   "mimetype": "text/x-python",
   "name": "python",
   "nbconvert_exporter": "python",
   "pygments_lexer": "ipython3",
   "version": "3.7.1"
  }
 },
 "nbformat": 4,
 "nbformat_minor": 1
}
