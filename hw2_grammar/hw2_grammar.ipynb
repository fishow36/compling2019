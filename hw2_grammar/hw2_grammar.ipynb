{
 "cells": [
  {
   "cell_type": "code",
   "execution_count": 1,
   "metadata": {},
   "outputs": [],
   "source": [
    "import nltk"
   ]
  },
  {
   "cell_type": "code",
   "execution_count": 2,
   "metadata": {},
   "outputs": [],
   "source": [
    "sents = \"\"\"\n",
    "Вася читает мою книгу\n",
    "напиши какое-нибудь письмо\n",
    "этот веселый мальчик идет\n",
    "он любит читать всякие книги\n",
    "\"\"\""
   ]
  },
  {
   "cell_type": "code",
   "execution_count": 3,
   "metadata": {},
   "outputs": [],
   "source": [
    "rules = \"\"\"\n",
    "    S -> NP VP | VP\n",
    "    NP -> PropN | Det NP | Adj NP | N\n",
    "    VP -> V NP | V VP | V\n",
    "    PropN -> 'Вася'\n",
    "    N -> 'мальчик' | 'книгу' | 'книги' | 'письмо' | 'он'\n",
    "    V -> 'читает' | 'напиши' | 'любит' | 'читать' | 'идет'\n",
    "    Det -> 'мою' | 'какое-нибудь' | 'всякие' | 'этот'\n",
    "    Adj -> 'веселый'\n",
    "\"\"\""
   ]
  },
  {
   "cell_type": "code",
   "execution_count": 4,
   "metadata": {},
   "outputs": [],
   "source": [
    "grammar = nltk.CFG.fromstring(rules)"
   ]
  },
  {
   "cell_type": "code",
   "execution_count": 5,
   "metadata": {},
   "outputs": [],
   "source": [
    "cp = nltk.EarleyChartParser(grammar)"
   ]
  },
  {
   "cell_type": "code",
   "execution_count": 8,
   "metadata": {},
   "outputs": [
    {
     "data": {
      "text/plain": [
       "[Tree('S', [Tree('NP', [Tree('PropN', ['Вася'])]), Tree('VP', [Tree('V', ['идет']), Tree('VP', [Tree('V', ['читать']), Tree('NP', [Tree('N', ['письмо'])])])])])]"
      ]
     },
     "execution_count": 8,
     "metadata": {},
     "output_type": "execute_result"
    }
   ],
   "source": [
    "list(cp.parse('Вася идет читать письмо'.split()))"
   ]
  },
  {
   "cell_type": "markdown",
   "metadata": {},
   "source": [
    "### Earley parser <br>\n",
    "\"Этот веселый мальчик идет\":<br>\n",
    "#### Chart[0]:<br>\n",
    "γ -> *S [0,0]<br>\n",
    "S -> *NP VP [0,0]<br>\n",
    "S -> *VP [0,0]<br>\n",
    "NP -> *PropN [0,0]<br>\n",
    "NP -> *Det NP [0,0]<br>\n",
    "NP -> *Adj N [0,0]<br>\n",
    "NP -> *N [0,0]<br>\n",
    "VP -> *V NP [0,0]<br>\n",
    "VP -> *V VP [0,0]<br>\n",
    "VP -> *V [0,0]<br>"
   ]
  },
  {
   "cell_type": "markdown",
   "metadata": {},
   "source": [
    "#### Chart[1]:<br>\n",
    "Det -> 'этот'* [0,1]<br>\n",
    "NP -> Det*NP [0,1]<br>\n",
    "NP -> *PropN [1,1]<br>\n",
    "NP -> *Det NP [1,1]<br>\n",
    "NP -> *Adj N [1,1]<br>\n",
    "NP -> *N [1,1]<br>"
   ]
  },
  {
   "cell_type": "markdown",
   "metadata": {},
   "source": [
    "#### Chart[2]:<br>\n",
    "Adj -> 'веселый'* [1,2]<br>\n",
    "Np -> Adj*N [1,2]<br>\n"
   ]
  },
  {
   "cell_type": "markdown",
   "metadata": {},
   "source": [
    "#### Chart[3]:<br>\n",
    "N -> 'мальчик'*[2,3]<br>\n",
    "Np -> Adj N* [1,3]<br>\n",
    "Np -> Det NP* [0,3]<br>\n",
    "S -> NP*VP[0,3]<br>\n",
    "VP -> *V NP [3,3]<br>\n",
    "VP -> *V VP [3,3]<br>\n",
    "VP -> *V [3,3]<br>"
   ]
  },
  {
   "cell_type": "markdown",
   "metadata": {},
   "source": [
    "#### Chart[4]:<br>\n",
    "V -> 'идет'* [3,4]<br>\n",
    "VP -> V*NP [3,4]<br>\n",
    "VP -> V*VP [3,4]<br>\n",
    "VP -> V* [3,4]<br>\n",
    "<br>\n",
    "NP -> *PropN [4,4]<br>\n",
    "NP -> *Det NP [4,4]<br>\n",
    "NP -> *Adj N [4,4]<br>\n",
    "NP -> *N [4,4]<br>\n",
    "VP -> *V NP [4,4]<br>\n",
    "VP -> *V VP [4,4]<br>\n",
    "VP -> *V [4,4]<br>\n",
    "<br>\n",
    "S -> NP VP*[0,4]<br>"
   ]
  },
  {
   "cell_type": "markdown",
   "metadata": {},
   "source": [
    "### CYK parser:"
   ]
  },
  {
   "cell_type": "markdown",
   "metadata": {},
   "source": [
    "S  | -- | -- | --\n",
    "------------- | ------------- | ------------- | -------------\n",
    "NP  | --  | -- | --\n",
    "--  | NP  | -- | --\n",
    "Det  | Adj  | N, NP | V, VP\n",
    "этот | веселый | мальчик | идет"
   ]
  },
  {
   "cell_type": "markdown",
   "metadata": {},
   "source": [
    "### Как такая штука будет работать с применением морфологического анализатора?\n",
    "Не нужно хранить отдельно список слов, которые могут принадлежать к каждой части речи, т.к. с помощью морф. анализатора для каждого слова можно узнать все возможные части речи."
   ]
  }
 ],
 "metadata": {
  "kernelspec": {
   "display_name": "Python 3",
   "language": "python",
   "name": "python3"
  },
  "language_info": {
   "codemirror_mode": {
    "name": "ipython",
    "version": 3
   },
   "file_extension": ".py",
   "mimetype": "text/x-python",
   "name": "python",
   "nbconvert_exporter": "python",
   "pygments_lexer": "ipython3",
   "version": "3.7.1"
  }
 },
 "nbformat": 4,
 "nbformat_minor": 2
}
